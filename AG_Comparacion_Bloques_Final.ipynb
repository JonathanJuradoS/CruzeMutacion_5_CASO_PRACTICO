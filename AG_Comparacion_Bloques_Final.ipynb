{
  "cells": [
    {
      "cell_type": "markdown",
      "metadata": {
        "id": "view-in-github",
        "colab_type": "text"
      },
      "source": [
        "<a href=\"https://colab.research.google.com/github/JonathanJuradoS/CruzeMutacion_5_CASO_PRACTICO/blob/main/AG_Comparacion_Bloques_Final.ipynb\" target=\"_parent\"><img src=\"https://colab.research.google.com/assets/colab-badge.svg\" alt=\"Open In Colab\"/></a>"
      ]
    },
    {
      "cell_type": "markdown",
      "id": "d20484ea",
      "metadata": {
        "id": "d20484ea"
      },
      "source": [
        "# 🧬 Comparación de Algoritmos Genéticos: Generacional vs Estacionario\n",
        "**Caso Práctico:** Asignación de grupos de laboratorio a bloques disponibles.\n",
        "\n",
        "**Objetivo:** Implementar ambos modelos de AG y comparar su desempeño asignando grupos a bloques considerando disponibilidad y carga."
      ]
    },
    {
      "cell_type": "markdown",
      "id": "3fc5814f",
      "metadata": {
        "id": "3fc5814f"
      },
      "source": [
        "## 📘 Descripción del caso\n",
        "Cada grupo de laboratorio puede asistir solo a ciertos bloques definidos por 'bloques_disponibles'. Se desea asignar un bloque a cada grupo de modo que:\n",
        "- Se respete la disponibilidad del grupo.\n",
        "- Se distribuya la asignación de forma equilibrada evitando sobrecarga en un mismo bloque.\n"
      ]
    },
    {
      "cell_type": "code",
      "execution_count": 1,
      "id": "fd789077",
      "metadata": {
        "id": "fd789077"
      },
      "outputs": [],
      "source": [
        "import pandas as pd\n",
        "\n",
        "df_grupos = pd.read_csv('grupos_lab.csv')\n",
        "df_bloques = pd.read_csv('bloques_horarios.csv')\n",
        "df_grupos['bloques_disponibles'] = df_grupos['bloques_disponibles'].apply(lambda x: list(map(int, x.split(','))))\n",
        "grupos = df_grupos['grupo_id'].tolist()\n",
        "bloques = df_bloques['bloque_id'].tolist()\n"
      ]
    },
    {
      "cell_type": "markdown",
      "id": "3f4caf76",
      "metadata": {
        "id": "3f4caf76"
      },
      "source": [
        "## 🔧 Representación y funciones auxiliares"
      ]
    },
    {
      "cell_type": "code",
      "execution_count": 2,
      "id": "0de87bbe",
      "metadata": {
        "id": "0de87bbe"
      },
      "outputs": [],
      "source": [
        "import random\n",
        "\n",
        "def crear_individuo():\n",
        "    return [random.choice(df_grupos.iloc[i]['bloques_disponibles']) for i in range(len(df_grupos))]\n",
        "\n",
        "def crear_poblacion(n):\n",
        "    return [crear_individuo() for _ in range(n)]"
      ]
    },
    {
      "cell_type": "markdown",
      "id": "64d3dc0b",
      "metadata": {
        "id": "64d3dc0b"
      },
      "source": [
        "## 📏 Función de fitness\n",
        "+10 si el bloque asignado está entre los disponibles del grupo\n",
        "-10 si no lo está\n",
        "-1 por cada asignación adicional a un mismo bloque (penaliza sobrecarga)"
      ]
    },
    {
      "cell_type": "code",
      "execution_count": 3,
      "id": "278fb86d",
      "metadata": {
        "id": "278fb86d"
      },
      "outputs": [],
      "source": [
        "from collections import Counter\n",
        "\n",
        "def fitness(ind):\n",
        "    score = 0\n",
        "    contador = Counter(ind)\n",
        "    for i, bloque in enumerate(ind):\n",
        "        disponibles = df_grupos.iloc[i]['bloques_disponibles']\n",
        "        score += 10 if bloque in disponibles else -10\n",
        "    # penalización por sobrecarga\n",
        "    for count in contador.values():\n",
        "        if count > 1:\n",
        "            score -= (count - 1)\n",
        "    return score"
      ]
    },
    {
      "cell_type": "markdown",
      "id": "4472dc9f",
      "metadata": {
        "id": "4472dc9f"
      },
      "source": [
        "## 🔁 AG Generacional y Estacionario"
      ]
    },
    {
      "cell_type": "code",
      "execution_count": 4,
      "id": "9aa1f361",
      "metadata": {
        "id": "9aa1f361"
      },
      "outputs": [],
      "source": [
        "def cruce(p1, p2):\n",
        "    punto = random.randint(1, len(p1)-2)\n",
        "    return p1[:punto] + p2[punto:], p2[:punto] + p1[punto:]\n",
        "\n",
        "def mutacion(ind, tasa=0.01):\n",
        "    for i in range(len(ind)):\n",
        "        if random.random() < tasa:\n",
        "            ind[i] = random.choice(df_grupos.iloc[i]['bloques_disponibles'])\n",
        "    return ind\n",
        "\n",
        "def torneo(pob):\n",
        "    i, j = random.sample(range(len(pob)), 2)\n",
        "    return pob[i] if fitness(pob[i]) > fitness(pob[j]) else pob[j]"
      ]
    },
    {
      "cell_type": "code",
      "execution_count": 5,
      "id": "b1f96bc2",
      "metadata": {
        "id": "b1f96bc2"
      },
      "outputs": [],
      "source": [
        "def evolucion_generacional(poblacion, generaciones=10):\n",
        "    historial = []\n",
        "    for _ in range(generaciones):\n",
        "        nueva = []\n",
        "        while len(nueva) < len(poblacion):\n",
        "            p1, p2 = torneo(poblacion), torneo(poblacion)\n",
        "            h1, h2 = cruce(p1, p2)\n",
        "            nueva.extend([mutacion(h1), mutacion(h2)])\n",
        "        poblacion = nueva[:len(poblacion)]\n",
        "        historial.append(fitness(max(poblacion, key=fitness)))\n",
        "    return poblacion, historial\n",
        "\n",
        "def evolucion_estacionario(poblacion, generaciones=10):\n",
        "    historial = []\n",
        "    for _ in range(generaciones):\n",
        "        p1, p2 = torneo(poblacion), torneo(poblacion)\n",
        "        h1, h2 = mutacion(cruce(p1, p2)[0]), mutacion(cruce(p1, p2)[1])\n",
        "        poblacion += [h1, h2]\n",
        "        poblacion.sort(key=fitness, reverse=True)\n",
        "        poblacion = poblacion[:len(poblacion)]\n",
        "        historial.append(fitness(poblacion[0]))\n",
        "    return poblacion, historial"
      ]
    },
    {
      "cell_type": "markdown",
      "id": "bda76b05",
      "metadata": {
        "id": "bda76b05"
      },
      "source": [
        "## 📊 Comparación gráfica de ambos modelos"
      ]
    },
    {
      "cell_type": "code",
      "execution_count": 6,
      "id": "8162a31b",
      "metadata": {
        "colab": {
          "base_uri": "https://localhost:8080/",
          "height": 472
        },
        "id": "8162a31b",
        "outputId": "d2c388e7-b300-4348-83b4-f5dc512a134a"
      },
      "outputs": [
        {
          "output_type": "display_data",
          "data": {
            "text/plain": [
              "<Figure size 640x480 with 1 Axes>"
            ],
            "image/png": "[encoded data removed]"
          },
          "metadata": {}
        }
      ],
      "source": [
        "import matplotlib.pyplot as plt\n",
        "\n",
        "pob = crear_poblacion(20)\n",
        "pop_gen, hist_gen = evolucion_generacional(pob.copy())\n",
        "pop_est, hist_est = evolucion_estacionario(pob.copy())\n",
        "\n",
        "plt.plot(hist_gen, label='Generacional', marker='o')\n",
        "plt.plot(hist_est, label='Estacionario', marker='x')\n",
        "plt.title('Comparación de Fitness')\n",
        "plt.xlabel('Generaciones')\n",
        "plt.ylabel('Mejor Fitness')\n",
        "plt.legend()\n",
        "plt.grid(True)\n",
        "plt.show()"
      ]
    },
    {
      "cell_type": "markdown",
      "id": "d77cbc16",
      "metadata": {
        "id": "d77cbc16"
      },
      "source": [
        "## 📤 Exportar mejor solución a Excel"
      ]
    },
    {
      "cell_type": "code",
      "execution_count": 7,
      "id": "97dca544",
      "metadata": {
        "colab": {
          "base_uri": "https://localhost:8080/",
          "height": 206
        },
        "id": "97dca544",
        "outputId": "88046274-fcde-48e4-f5f5-936905aa2105"
      },
      "outputs": [
        {
          "output_type": "execute_result",
          "data": {
            "text/plain": [
              "  grupo_id  bloque_asignado  bloque_id      dia      horario\n",
              "0     G001               22         22   Jueves  08:00-10:00\n",
              "1     G004                4          4    Lunes  14:00-16:00\n",
              "2     G007                1          1    Lunes  08:00-10:00\n",
              "3     G009               35         35  Viernes  20:00-22:00\n",
              "4     G010               27         27   Jueves  18:00-20:00"
            ],
            "text/html": [
              "\n",
              "  <div id=\"df-0fdc0249-f639-46ae-a51b-2666a7977138\" class=\"colab-df-container\">\n",
              "    <div>\n",
              "<style scoped>\n",
              "    .dataframe tbody tr th:only-of-type {\n",
              "        vertical-align: middle;\n",
              "    }\n",
              "\n",
              "    .dataframe tbody tr th {\n",
              "        vertical-align: top;\n",
              "    }\n",
              "\n",
              "    .dataframe thead th {\n",
              "        text-align: right;\n",
              "    }\n",
              "</style>\n",
              "<table border=\"1\" class=\"dataframe\">\n",
              "  <thead>\n",
              "    <tr style=\"text-align: right;\">\n",
              "      <th></th>\n",
              "      <th>grupo_id</th>\n",
              "      <th>bloque_asignado</th>\n",
              "      <th>bloque_id</th>\n",
              "      <th>dia</th>\n",
              "      <th>horario</th>\n",
              "    </tr>\n",
              "  </thead>\n",
              "  <tbody>\n",
              "    <tr>\n",
              "      <th>0</th>\n",
              "      <td>G001</td>\n",
              "      <td>22</td>\n",
              "      <td>22</td>\n",
              "      <td>Jueves</td>\n",
              "      <td>08:00-10:00</td>\n",
              "    </tr>\n",
              "    <tr>\n",
              "      <th>1</th>\n",
              "      <td>G004</td>\n",
              "      <td>4</td>\n",
              "      <td>4</td>\n",
              "      <td>Lunes</td>\n",
              "      <td>14:00-16:00</td>\n",
              "    </tr>\n",
              "    <tr>\n",
              "      <th>2</th>\n",
              "      <td>G007</td>\n",
              "      <td>1</td>\n",
              "      <td>1</td>\n",
              "      <td>Lunes</td>\n",
              "      <td>08:00-10:00</td>\n",
              "    </tr>\n",
              "    <tr>\n",
              "      <th>3</th>\n",
              "      <td>G009</td>\n",
              "      <td>35</td>\n",
              "      <td>35</td>\n",
              "      <td>Viernes</td>\n",
              "      <td>20:00-22:00</td>\n",
              "    </tr>\n",
              "    <tr>\n",
              "      <th>4</th>\n",
              "      <td>G010</td>\n",
              "      <td>27</td>\n",
              "      <td>27</td>\n",
              "      <td>Jueves</td>\n",
              "      <td>18:00-20:00</td>\n",
              "    </tr>\n",
              "  </tbody>\n",
              "</table>\n",
              "</div>\n",
              "    <div class=\"colab-df-buttons\">\n",
              "\n",
              "  <div class=\"colab-df-container\">\n",
              "    <button class=\"colab-df-convert\" onclick=\"convertToInteractive('df-0fdc0249-f639-46ae-a51b-2666a7977138')\"\n",
              "            title=\"Convert this dataframe to an interactive table.\"\n",
              "            style=\"display:none;\">\n",
              "\n",
              "  <svg xmlns=\"http://www.w3.org/2000/svg\" height=\"24px\" viewBox=\"0 -960 960 960\">\n",
              "    <path d=\"M120-120v-720h720v720H120Zm60-500h600v-160H180v160Zm220 220h160v-160H400v160Zm0 220h160v-160H400v160ZM180-400h160v-160H180v160Zm440 0h160v-160H620v160ZM180-180h160v-160H180v160Zm440 0h160v-160H620v160Z\"/>\n",
              "  </svg>\n",
              "    </button>\n",
              "\n",
              "  <style>\n",
              "    .colab-df-container {\n",
              "      display:flex;\n",
              "      gap: 12px;\n",
              "    }\n",
              "\n",
              "    .colab-df-convert {\n",
              "      background-color: #E8F0FE;\n",
              "      border: none;\n",
              "      border-radius: 50%;\n",
              "      cursor: pointer;\n",
              "      display: none;\n",
              "      fill: #1967D2;\n",
              "      height: 32px;\n",
              "      padding: 0 0 0 0;\n",
              "      width: 32px;\n",
              "    }\n",
              "\n",
              "    .colab-df-convert:hover {\n",
              "      background-color: #E2EBFA;\n",
              "      box-shadow: 0px 1px 2px rgba(60, 64, 67, 0.3), 0px 1px 3px 1px rgba(60, 64, 67, 0.15);\n",
              "      fill: #174EA6;\n",
              "    }\n",
              "\n",
              "    .colab-df-buttons div {\n",
              "      margin-bottom: 4px;\n",
              "    }\n",
              "\n",
              "    [theme=dark] .colab-df-convert {\n",
              "      background-color: #3B4455;\n",
              "      fill: #D2E3FC;\n",
              "    }\n",
              "\n",
              "    [theme=dark] .colab-df-convert:hover {\n",
              "      background-color: #434B5C;\n",
              "      box-shadow: 0px 1px 3px 1px rgba(0, 0, 0, 0.15);\n",
              "      filter: drop-shadow(0px 1px 2px rgba(0, 0, 0, 0.3));\n",
              "      fill: #FFFFFF;\n",
              "    }\n",
              "  </style>\n",
              "\n",
              "    <script>\n",
              "      const buttonEl =\n",
              "        document.querySelector('#df-0fdc0249-f639-46ae-a51b-2666a7977138 button.colab-df-convert');\n",
              "      buttonEl.style.display =\n",
              "        google.colab.kernel.accessAllowed ? 'block' : 'none';\n",
              "\n",
              "      async function convertToInteractive(key) {\n",
              "        const element = document.querySelector('#df-0fdc0249-f639-46ae-a51b-2666a7977138');\n",
              "        const dataTable =\n",
              "          await google.colab.kernel.invokeFunction('convertToInteractive',\n",
              "                                                    [key], {});\n",
              "        if (!dataTable) return;\n",
              "\n",
              "        const docLinkHtml = 'Like what you see? Visit the ' +\n",
              "          '<a target=\"_blank\" href=https://colab.research.google.com/notebooks/data_table.ipynb>data table notebook</a>'\n",
              "          + ' to learn more about interactive tables.';\n",
              "        element.innerHTML = '';\n",
              "        dataTable['output_type'] = 'display_data';\n",
              "        await google.colab.output.renderOutput(dataTable, element);\n",
              "        const docLink = document.createElement('div');\n",
              "        docLink.innerHTML = docLinkHtml;\n",
              "        element.appendChild(docLink);\n",
              "      }\n",
              "    </script>\n",
              "  </div>\n",
              "\n",
              "\n",
              "    <div id=\"df-2343e22f-e6fd-46af-85c3-8ae22922d232\">\n",
              "      <button class=\"colab-df-quickchart\" onclick=\"quickchart('df-2343e22f-e6fd-46af-85c3-8ae22922d232')\"\n",
              "                title=\"Suggest charts\"\n",
              "                style=\"display:none;\">\n",
              "\n",
              "<svg xmlns=\"http://www.w3.org/2000/svg\" height=\"24px\"viewBox=\"0 0 24 24\"\n",
              "     width=\"24px\">\n",
              "    <g>\n",
              "        <path d=\"M19 3H5c-1.1 0-2 .9-2 2v14c0 1.1.9 2 2 2h14c1.1 0 2-.9 2-2V5c0-1.1-.9-2-2-2zM9 17H7v-7h2v7zm4 0h-2V7h2v10zm4 0h-2v-4h2v4z\"/>\n",
              "    </g>\n",
              "</svg>\n",
              "      </button>\n",
              "\n",
              "<style>\n",
              "  .colab-df-quickchart {\n",
              "      --bg-color: #E8F0FE;\n",
              "      --fill-color: #1967D2;\n",
              "      --hover-bg-color: #E2EBFA;\n",
              "      --hover-fill-color: #174EA6;\n",
              "      --disabled-fill-color: #AAA;\n",
              "      --disabled-bg-color: #DDD;\n",
              "  }\n",
              "\n",
              "  [theme=dark] .colab-df-quickchart {\n",
              "      --bg-color: #3B4455;\n",
              "      --fill-color: #D2E3FC;\n",
              "      --hover-bg-color: #434B5C;\n",
              "      --hover-fill-color: #FFFFFF;\n",
              "      --disabled-bg-color: #3B4455;\n",
              "      --disabled-fill-color: #666;\n",
              "  }\n",
              "\n",
              "  .colab-df-quickchart {\n",
              "    background-color: var(--bg-color);\n",
              "    border: none;\n",
              "    border-radius: 50%;\n",
              "    cursor: pointer;\n",
              "    display: none;\n",
              "    fill: var(--fill-color);\n",
              "    height: 32px;\n",
              "    padding: 0;\n",
              "    width: 32px;\n",
              "  }\n",
              "\n",
              "  .colab-df-quickchart:hover {\n",
              "    background-color: var(--hover-bg-color);\n",
              "    box-shadow: 0 1px 2px rgba(60, 64, 67, 0.3), 0 1px 3px 1px rgba(60, 64, 67, 0.15);\n",
              "    fill: var(--button-hover-fill-color);\n",
              "  }\n",
              "\n",
              "  .colab-df-quickchart-complete:disabled,\n",
              "  .colab-df-quickchart-complete:disabled:hover {\n",
              "    background-color: var(--disabled-bg-color);\n",
              "    fill: var(--disabled-fill-color);\n",
              "    box-shadow: none;\n",
              "  }\n",
              "\n",
              "  .colab-df-spinner {\n",
              "    border: 2px solid var(--fill-color);\n",
              "    border-color: transparent;\n",
              "    border-bottom-color: var(--fill-color);\n",
              "    animation:\n",
              "      spin 1s steps(1) infinite;\n",
              "  }\n",
              "\n",
              "  @keyframes spin {\n",
              "    0% {\n",
              "      border-color: transparent;\n",
              "      border-bottom-color: var(--fill-color);\n",
              "      border-left-color: var(--fill-color);\n",
              "    }\n",
              "    20% {\n",
              "      border-color: transparent;\n",
              "      border-left-color: var(--fill-color);\n",
              "      border-top-color: var(--fill-color);\n",
              "    }\n",
              "    30% {\n",
              "      border-color: transparent;\n",
              "      border-left-color: var(--fill-color);\n",
              "      border-top-color: var(--fill-color);\n",
              "      border-right-color: var(--fill-color);\n",
              "    }\n",
              "    40% {\n",
              "      border-color: transparent;\n",
              "      border-right-color: var(--fill-color);\n",
              "      border-top-color: var(--fill-color);\n",
              "    }\n",
              "    60% {\n",
              "      border-color: transparent;\n",
              "      border-right-color: var(--fill-color);\n",
              "    }\n",
              "    80% {\n",
              "      border-color: transparent;\n",
              "      border-right-color: var(--fill-color);\n",
              "      border-bottom-color: var(--fill-color);\n",
              "    }\n",
              "    90% {\n",
              "      border-color: transparent;\n",
              "      border-bottom-color: var(--fill-color);\n",
              "    }\n",
              "  }\n",
              "</style>\n",
              "\n",
              "      <script>\n",
              "        async function quickchart(key) {\n",
              "          const quickchartButtonEl =\n",
              "            document.querySelector('#' + key + ' button');\n",
              "          quickchartButtonEl.disabled = true;  // To prevent multiple clicks.\n",
              "          quickchartButtonEl.classList.add('colab-df-spinner');\n",
              "          try {\n",
              "            const charts = await google.colab.kernel.invokeFunction(\n",
              "                'suggestCharts', [key], {});\n",
              "          } catch (error) {\n",
              "            console.error('Error during call to suggestCharts:', error);\n",
              "          }\n",
              "          quickchartButtonEl.classList.remove('colab-df-spinner');\n",
              "          quickchartButtonEl.classList.add('colab-df-quickchart-complete');\n",
              "        }\n",
              "        (() => {\n",
              "          let quickchartButtonEl =\n",
              "            document.querySelector('#df-2343e22f-e6fd-46af-85c3-8ae22922d232 button');\n",
              "          quickchartButtonEl.style.display =\n",
              "            google.colab.kernel.accessAllowed ? 'block' : 'none';\n",
              "        })();\n",
              "      </script>\n",
              "    </div>\n",
              "\n",
              "    </div>\n",
              "  </div>\n"
            ],
            "application/vnd.google.colaboratory.intrinsic+json": {
              "type": "dataframe",
              "variable_name": "df_export",
              "summary": "{\n  \"name\": \"df_export\",\n  \"rows\": 76,\n  \"fields\": [\n    {\n      \"column\": \"grupo_id\",\n      \"properties\": {\n        \"dtype\": \"string\",\n        \"num_unique_values\": 76,\n        \"samples\": [\n          \"G010\",\n          \"G060\",\n          \"G020\"\n        ],\n        \"semantic_type\": \"\",\n        \"description\": \"\"\n      }\n    },\n    {\n      \"column\": \"bloque_asignado\",\n      \"properties\": {\n        \"dtype\": \"number\",\n        \"std\": 9,\n        \"min\": 1,\n        \"max\": 35,\n        \"num_unique_values\": 35,\n        \"samples\": [\n          2,\n          10,\n          29\n        ],\n        \"semantic_type\": \"\",\n        \"description\": \"\"\n      }\n    },\n    {\n      \"column\": \"bloque_id\",\n      \"properties\": {\n        \"dtype\": \"number\",\n        \"std\": 9,\n        \"min\": 1,\n        \"max\": 35,\n        \"num_unique_values\": 35,\n        \"samples\": [\n          2,\n          10,\n          29\n        ],\n        \"semantic_type\": \"\",\n        \"description\": \"\"\n      }\n    },\n    {\n      \"column\": \"dia\",\n      \"properties\": {\n        \"dtype\": \"category\",\n        \"num_unique_values\": 5,\n        \"samples\": [\n          \"Lunes\",\n          \"Martes\",\n          \"Viernes\"\n        ],\n        \"semantic_type\": \"\",\n        \"description\": \"\"\n      }\n    },\n    {\n      \"column\": \"horario\",\n      \"properties\": {\n        \"dtype\": \"object\",\n        \"num_unique_values\": 7,\n        \"samples\": [\n          \"08:00-10:00\",\n          \"14:00-16:00\",\n          \"16:00-18:00\"\n        ],\n        \"semantic_type\": \"\",\n        \"description\": \"\"\n      }\n    }\n  ]\n}"
            }
          },
          "metadata": {},
          "execution_count": 7
        }
      ],
      "source": [
        "mejor = max(pop_gen, key=fitness)\n",
        "df_resultado = pd.DataFrame(list(zip(df_grupos['grupo_id'], mejor)), columns=['grupo_id', 'bloque_asignado'])\n",
        "df_export = pd.merge(df_resultado, df_bloques, left_on='bloque_asignado', right_on='bloque_id')\n",
        "df_export.to_excel('AG_Bloques_Final.xlsx', index=False)\n",
        "df_export.head()"
      ]
    },
    {
      "cell_type": "markdown",
      "id": "34e10d24",
      "metadata": {
        "id": "34e10d24"
      },
      "source": [
        "## ✅ Conclusiones\n",
        "- Ambos modelos encuentran soluciones razonables, pero el generacional converge más rápido.\n",
        "- El estacionario mantiene mayor diversidad, útil si se busca explorar más combinaciones.\n",
        "- Penalizar la sobreasignación permite una mejor distribución de los bloques.\n",
        "- Se pueden extender los criterios considerando también días o preferencias adicionales."
      ]
    }
  ],
  "metadata": {
    "colab": {
      "provenance": [],
      "include_colab_link": true
    },
    "language_info": {
      "name": "python"
    },
    "kernelspec": {
      "name": "python3",
      "display_name": "Python 3"
    }
  },
  "nbformat": 4,
  "nbformat_minor": 5
}